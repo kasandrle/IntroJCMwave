{
 "cells": [
  {
   "cell_type": "markdown",
   "id": "1e141ae1",
   "metadata": {},
   "source": [
    "## Ni Sample 2 layers"
   ]
  },
  {
   "cell_type": "code",
   "execution_count": 1,
   "id": "28c3380f-808a-43a3-aa4f-f937d0a8d3b0",
   "metadata": {
    "tags": []
   },
   "outputs": [],
   "source": [
    "import sys\n",
    "import numpy as np\n",
    "import scipy.interpolate as si\n",
    "import os\n",
    "import scipy.optimize\n",
    "import matplotlib.pyplot as plt\n",
    "from os import listdir\n",
    "from os.path import isfile, join, expanduser\n",
    "#print(os.path.expanduser('~')) \n",
    "home = os.path.expanduser('~')\n",
    "\n",
    "sys.path.append('../')\n",
    "#sys.path.append(join(home,'Projects/helpfullscripts/'))\n",
    "#import forJCM\n",
    "#import geo_3 as geometry\n",
    "import jcm_plotting_utils as JCMgrid\n",
    "\n",
    "jcm_root = join(home,'JCMwave/JCMsuite_6_2_1/ThirdPartySupport/Python')\n",
    "jcm_root = join(home,'JCMwave/JCMsuite_6_0_10/ThirdPartySupport/Python')\n",
    "sys.path.append(jcm_root)\n",
    "import jcmwave\n",
    "\n",
    "\n",
    "\n",
    "\n",
    "#sys.path.append(join(home,'github/XRR_workflows/calculate_n_k_from_xrr'))\n",
    "#sys.path.append(join(home,'Projects/XRR_workflows/calculate_n_k_from_xrr'))\n",
    "import xray_compounds as xc\n",
    "import pint\n",
    "unit = pint.UnitRegistry()\n",
    "\n",
    "#import pythia.Misc as MISC\n",
    "\n",
    "#from paramiko import SSHClient\n",
    "\n",
    "#import json\n",
    "\n",
    "#import pandas as pd\n",
    "\n",
    "#import pickle \n",
    "\n",
    "#import xraylib\n",
    "\n",
    "import time"
   ]
  },
  {
   "cell_type": "code",
   "execution_count": 2,
   "id": "82df8ce5-ee79-4c24-a51c-f140aa7e6878",
   "metadata": {
    "tags": []
   },
   "outputs": [
    {
     "name": "stdout",
     "output_type": "stream",
     "text": [
      "1239.8419843320025\n"
     ]
    }
   ],
   "source": [
    "import scipy.constants\n",
    "c = scipy.constants.c #speed of light\n",
    "h = scipy.constants.h #Planck\n",
    "e = scipy.constants.e #elemetry charge\n",
    "hc = h*c/e*1e9 #wavelenght in nm\n",
    "print(hc)\n",
    "def eVnm_converter(value):\n",
    "    #Planck's constant (6.6261 x 10-34 J*s) and c is the speed of light (2.9979 x 108 m/s)\n",
    "    return hc/value\n",
    "\n",
    "#E (eV) = 1239.8 / l (nm)     (equation 2) "
   ]
  },
  {
   "cell_type": "code",
   "execution_count": 3,
   "id": "60b6117c-5ece-4693-bfa3-ae909c47b482",
   "metadata": {
    "tags": []
   },
   "outputs": [
    {
     "data": {
      "text/plain": [
       "[512458677, 1740103743]"
      ]
     },
     "execution_count": 3,
     "metadata": {},
     "output_type": "execute_result"
    }
   ],
   "source": [
    "jcmwave.daemon.shutdown()\n",
    "jcmwave.daemon.add_workstation(\n",
    "        Hostname='localhost',\n",
    "        #Login='andrle01',\n",
    "        JCMROOT=jcm_root,\n",
    "        Multiplicity=2,\n",
    "        NThreads=12\n",
    "        )\n",
    "\n",
    "#jcmwave.set_memory_limit(max_ram=25000)\n",
    "#ssh = SSHClient()\n",
    "#ssh.load_system_host_keys()\n",
    "#ssh.connect('aidos')\n",
    "#ssh_stdin, ssh_stdout, ssh_stderr = ssh.exec_command('renice 5 -u andrle01')"
   ]
  },
  {
   "cell_type": "code",
   "execution_count": 4,
   "id": "0989aea1",
   "metadata": {},
   "outputs": [],
   "source": [
    "keys = {\n",
    "    'fem_deg': 4,  # degree Polynom for fitting\n",
    "    'uol1': 1e-9,  # einheit in nm\n",
    "    'uol': 1,\n",
    "    'energy_list':np.array([280,285]), #eV\n",
    "}"
   ]
  },
  {
   "cell_type": "code",
   "execution_count": 5,
   "id": "56fd0866-8a7e-4981-b31c-aa6be389af5d",
   "metadata": {
    "tags": []
   },
   "outputs": [],
   "source": [
    "#Get optical constants from Henke and periodictable\n",
    "keys['Ni_density'] = 6.5\n",
    "keys['NiO2_density'] = 5\n",
    "\n",
    "\n",
    "nk_Ni = np.conjugate(xc.refractive_index('Ni', keys['energy_list'] * unit.eV, density=6.5))\n",
    "nk_NiO = np.conjugate(xc.refractive_index('NiO', keys['energy_list'] * unit.eV, density=5))\n",
    "\n",
    "\n",
    "nk_Si3N4 = np.conjugate(xc.refractive_index('Si3N4', keys['energy_list'] * unit.eV, density=2.8))\n",
    "nk_H2O = np.conjugate(xc.refractive_index('H2O', keys['energy_list'] * unit.eV, density=1))\n",
    "\n",
    "keys['nk_Ni'] = nk_Ni\n",
    "keys['nk_NiO2'] = nk_NiO\n",
    "keys['nk_Si3N4'] = nk_Si3N4\n",
    "keys['nk_H2O'] = nk_H2O"
   ]
  },
  {
   "cell_type": "code",
   "execution_count": 29,
   "id": "403f0ff2-7d67-4d8a-9011-1ef4da0332f4",
   "metadata": {
    "tags": []
   },
   "outputs": [],
   "source": [
    "\n",
    "\n",
    "i_taken_energy = -1\n",
    "energy =  keys['energy_list'] * unit.eV\n",
    "wl = energy.to(unit.nm, 'sp').magnitude\n",
    "keys['energy'] = energy[i_taken_energy].to(unit.keV, 'sp').magnitude\n",
    "keys['pol'] = [1, 0] #1,0 s pol 0,1 p pol\n",
    "keys['lambda'] = wl[i_taken_energy] * 1e-9\n",
    "\n",
    "#tensor = eye\n",
    "\n",
    "keys['nk'] = [ 1 + 0 * 1j, #vacuum\n",
    "              nk_NiO[i_taken_energy]*np.eye(3,3), #oxide layer\n",
    "              nk_Ni[i_taken_energy], #material of the grating\n",
    "               nk_Si3N4[i_taken_energy], #nk_Si3N4, #layer on top of the substrate\n",
    "               nk_H2O[i_taken_energy], #1 + 0 * 1j #nk_H2O[0], #1 + 0 * 1j #substrate nk_Si\n",
    "              1 + 0 * 1j, #cont_layer\n",
    "             ]\n",
    "\n",
    "keys['permittivity_1'] = nk_Ni[i_taken_energy]**2\n",
    "keys['permittivity_2'] = nk_NiO[i_taken_energy]**2\n",
    "keys['exponent_g'] = 1\n",
    "keys['max_a'] = 1\n",
    "\n",
    "\n",
    "keys['name_domain'] = ['vacuum','oxide layer','grating','layer','substrate','cont']\n",
    "keys_geo ={\n",
    "    'pitch':10,\n",
    "    'height':50,\n",
    "    #'cd':100,\n",
    "    #'swa':90,\n",
    "    #'thickness_oxid_etch_offset':0,\n",
    "    'thickness_oxid':3,\n",
    "    'thickness_oxid_Si_Si3N4': 50,\n",
    "    'height_offset_substrate':8,\n",
    "    'height_offset_air':5,\n",
    "    'height_C':5,\n",
    "    'R':0\n",
    "    }\n",
    "\n",
    "keys.update(keys_geo)\n",
    "\n",
    "p2 = keys['pitch']/2\n",
    "\n",
    "height_cell = keys['height']+keys['height_C']+keys['thickness_oxid'] + keys['height_offset_air']\n",
    "\n",
    "keys['points_cd'] = [-p2,-keys['height_offset_substrate']-keys['thickness_oxid_Si_Si3N4'],p2,-keys['height_offset_substrate']-keys['thickness_oxid_Si_Si3N4'],p2,height_cell,-p2,height_cell]\n",
    "keys['points_substrate'] = [-p2,-keys['height_offset_substrate']-keys['thickness_oxid_Si_Si3N4'],p2,-keys['height_offset_substrate']-keys['thickness_oxid_Si_Si3N4'],p2,-keys['thickness_oxid_Si_Si3N4'],-p2,-keys['thickness_oxid_Si_Si3N4']]\n",
    "keys[\"points_to_Si_Si3N4\"] = [-p2,-keys['thickness_oxid_Si_Si3N4'],p2,-keys['thickness_oxid_Si_Si3N4'],p2,0,-p2,0]\n",
    "keys['points_line_komplet'] = [-p2,0,p2,0,p2,keys['height'],-p2,keys['height']]\n",
    "keys['points_oxid_komplet'] = [-p2-keys['max_a'],0,p2+keys['max_a'],0,p2+keys['max_a'],keys['height'] + keys['thickness_oxid'],-p2-keys['max_a'],keys['height'] + keys['thickness_oxid']]\n",
    "keys['points_cont_komplet'] = [-p2,0,p2,0,p2,keys['height'] + keys['thickness_oxid'] + keys['height_C'],-p2,keys['height'] + keys['thickness_oxid'] +keys['height_C']]\n",
    "\n",
    "\n",
    "\n",
    "#angles = np.linspace(-120,-90,51)\n",
    "keys['Theta_unique'] = np.array([10,45,90])\n",
    "\n",
    "\n",
    "keys['slc'] = 0.7 #0.5\n",
    "keys['fem_deg'] = 5\n",
    "\n",
    "\n"
   ]
  },
  {
   "cell_type": "code",
   "execution_count": 22,
   "id": "e84d6956-096f-4752-a683-57ad96e1780a",
   "metadata": {
    "tags": []
   },
   "outputs": [
    {
     "data": {
      "text/plain": [
       "Text(0, 0.5, 'Y / nm')"
      ]
     },
     "execution_count": 22,
     "metadata": {},
     "output_type": "execute_result"
    },
    {
     "data": {
      "image/png": "[encoded data removed]",
      "text/plain": [
       "<Figure size 640x480 with 1 Axes>"
      ]
     },
     "metadata": {},
     "output_type": "display_data"
    }
   ],
   "source": [
    "\n",
    "plt.axes().set_aspect('equal')\n",
    "plt.plot(keys['points_substrate'][::2],keys['points_substrate'][1::2],'--')\n",
    "plt.plot(keys['points_line_komplet'][::2],keys['points_line_komplet'][1::2],'-')\n",
    "plt.plot(keys['points_oxid_komplet'][::2],keys['points_oxid_komplet'][1::2])\n",
    "plt.plot(keys['points_cd'][::2],keys['points_cd'][1::2])\n",
    "plt.plot(keys['points_to_Si_Si3N4'][::2],keys['points_to_Si_Si3N4'][1::2])\n",
    "plt.plot(keys['points_cont_komplet'][::2],keys['points_cont_komplet'][1::2])\n",
    "plt.xlabel('X / nm')\n",
    "plt.ylabel('Y / nm')"
   ]
  },
  {
   "cell_type": "code",
   "execution_count": 19,
   "id": "17794590",
   "metadata": {},
   "outputs": [
    {
     "name": "stdout",
     "output_type": "stream",
     "text": [
      "(0.980377561737373+0.009067686445801054j)\n",
      "(0.9837980136214858+0.0059044683740461j)\n"
     ]
    },
    {
     "name": "stderr",
     "output_type": "stream",
     "text": [
      "/tmp/ipykernel_2654389/1082912484.py:80: ComplexWarning: Casting complex values to real discards the imaginary part\n",
      "  grid_z[ii][jj]=value #np.min(d_array)\n"
     ]
    },
    {
     "data": {
      "text/plain": [
       "<matplotlib.colorbar.Colorbar at 0x7957539c8950>"
      ]
     },
     "execution_count": 19,
     "metadata": {},
     "output_type": "execute_result"
    },
    {
     "data": {
      "image/png": "[encoded data removed]",
      "text/plain": [
       "<Figure size 640x480 with 2 Axes>"
      ]
     },
     "metadata": {},
     "output_type": "display_data"
    }
   ],
   "source": [
    "x_linspace = np.linspace(-100,100,100)\n",
    "y_linspace = np.linspace(np.min(keys['points_cd'][1::2]),np.max(keys['points_cd'][1::2]),100)\n",
    "xy_mesh =  np.meshgrid(x_linspace,y_linspace)\n",
    "np.shape(xy_mesh)\n",
    "grid_z = xy_mesh[0].copy()*0+1\n",
    "\n",
    "ax = keys['points_oxid_komplet'][::2]\n",
    "ay = keys['points_oxid_komplet'][1::2]\n",
    "\n",
    "x_linspace = np.linspace(np.min(ax),np.max(ax),100)\n",
    "y_linspace = np.linspace(np.min(ay),np.max(ay),100)\n",
    "xy_mesh =  np.meshgrid(x_linspace,y_linspace)\n",
    "\n",
    "max_a = 10\n",
    "g = 1\n",
    "n1 = keys['permittivity_1'] \n",
    "n2 = keys['permittivity_2'] \n",
    "grid_z = (xy_mesh[0].copy()*0)+60\n",
    "print(n1)\n",
    "print(n2)\n",
    "\n",
    "def abstand(x,y,x1, y1, x2,y2):\n",
    "    x1x2=x1-x2\n",
    "    y1y2=y1-y2\n",
    "    #abs_richtung=power(power(x1x2,2)+power(y1y2,2),0.5);\n",
    "    abs_richtung=np.sqrt(np.square(x1x2)+np.square(y1y2))\n",
    "    #d = power(power((x-x1)*y1y2-(y-y1)*x1x2,2),0.5)/abs_richtung;\n",
    "    d = np.sqrt(np.square((x-x1)*y1y2-(y-y1)*x1x2))/abs_richtung\n",
    "    lam = ((x1-x)*x1x2+(y1-y)*y1y2)/((-1)*(x1x2*x1x2)+(y1y2*y1y2))\n",
    "    #d_ecke = power((power(x-x1,2)+power(y-y1,2)),0.5)\n",
    "    d_ecke = np.sqrt((np.square(x-x1)+np.square(y-y1)))\n",
    "    if abs(y1y2)<5e-9:\n",
    "        lam=lam*(-1)\n",
    "    return d, lam, d_ecke\n",
    "\n",
    "def distance(X,X1,X2):\n",
    "    orientation_norm = np.linalg.norm(X2-X1)\n",
    "    cross_product_norm =  np.linalg.norm(np.cross((X-X1),X2))\n",
    "    d = cross_product_norm/orientation_norm\n",
    "    return d\n",
    "                        \n",
    "#d = max_a##\n",
    "for ii in range(np.shape(grid_z)[0]):\n",
    "    for jj in range(np.shape(grid_z)[1]):\n",
    "        X = [xy_mesh[0][ii][jj],xy_mesh[1][ii][jj]]\n",
    "        #d = max_a\n",
    "        d_array = []\n",
    "        for i in range(np.shape(ax)[0]):\n",
    "            if i>=1 and i < np.shape(ax)[0]:\n",
    "                a=i\n",
    "                b=i+1\n",
    "    \n",
    "                if i==np.shape(ax)[0]-1:\n",
    "                    b=0\n",
    "        \n",
    "                #if ax[b] <= X[0] <= ax[a]:\n",
    "                    #print(X,ax[a],ax[b])\n",
    "                #    if ay[a] <= X[1] <= ay[b]:\n",
    "                #X1 = np.array([ax[a],ay[a]])\n",
    "                #X2 = np.array([ax[b],ay[b]])\n",
    "                    #d_temp = distance(X,X1,X2)\n",
    "                    #print(d_temp)\n",
    "                d_temp, lam, d_ecke  =abstand(X[0],X[1],ax[a],ay[a],ax[b],ay[b])\n",
    "                d_array.append(d_temp)\n",
    "        \n",
    "        #for i in range(np.shape(points_oxid_x)[0]):\n",
    "        #    if i>1 and i < np.shape(points_oxid_x)[0]-1:\n",
    "        #        d_temp, lam, d_ecke=abstand(X[0],X[1],points_oxid_x[i],points_oxid_y[i],points_oxid_x[i+1],points_oxid_y[i+1])\n",
    "            #print(np.shape(d_temp))\n",
    "                #if d_temp < d and 0<=lam <= 1:\n",
    "                #    d = d_temp.copy()\n",
    "                #elif d_ecke<d:\n",
    "                #    d = d_ecke.copy()\n",
    "                   \n",
    "                d = np.min(d_array)\n",
    "                if d<max_a:\n",
    "                    value= n1+(n2-n1)*(1-np.power(d/max_a,g))\n",
    "                else:\n",
    "                    value= n1\n",
    "                grid_z[ii][jj]=value #np.min(d_array)\n",
    "plt.pcolormesh(xy_mesh[0],xy_mesh[1],np.real(grid_z))\n",
    "plt.plot(keys['points_line_komplet'][::2],keys['points_line_komplet'][1::2],'-')\n",
    "plt.plot(keys['points_oxid_komplet'][::2],keys['points_oxid_komplet'][1::2])\n",
    "plt.plot(keys['points_cd'][::2],keys['points_cd'][1::2])\n",
    "plt.colorbar()"
   ]
  },
  {
   "cell_type": "code",
   "execution_count": 23,
   "id": "2d11c5f7-cd66-460b-80d0-b8b32107b4e0",
   "metadata": {
    "tags": []
   },
   "outputs": [
    {
     "ename": "KeyError",
     "evalue": "np.uint64(7)",
     "output_type": "error",
     "traceback": [
      "\u001b[0;31m---------------------------------------------------------------------------\u001b[0m",
      "\u001b[0;31mKeyError\u001b[0m                                  Traceback (most recent call last)",
      "Cell \u001b[0;32mIn[23], line 4\u001b[0m\n\u001b[1;32m      2\u001b[0m jcmwave\u001b[38;5;241m.\u001b[39mgeo(\u001b[38;5;124m'\u001b[39m\u001b[38;5;124m./_JCM_clean_gradient/\u001b[39m\u001b[38;5;124m'\u001b[39m, keys\u001b[38;5;241m=\u001b[39mkeys )\n\u001b[1;32m      3\u001b[0m figure,ax1 \u001b[38;5;241m=\u001b[39mplt\u001b[38;5;241m.\u001b[39msubplots(\u001b[38;5;241m1\u001b[39m,\u001b[38;5;241m1\u001b[39m, figsize\u001b[38;5;241m=\u001b[39m(\u001b[38;5;241m5\u001b[39m,\u001b[38;5;241m10\u001b[39m))\n\u001b[0;32m----> 4\u001b[0m \u001b[43mJCMgrid\u001b[49m\u001b[38;5;241;43m.\u001b[39;49m\u001b[43mplot_grid\u001b[49m\u001b[43m(\u001b[49m\u001b[38;5;124;43m'\u001b[39;49m\u001b[38;5;124;43m./_JCM_clean_gradient/grid.jcm\u001b[39;49m\u001b[38;5;124;43m'\u001b[39;49m\u001b[43m,\u001b[49m\u001b[43m \u001b[49m\u001b[43max\u001b[49m\u001b[38;5;241;43m=\u001b[39;49m\u001b[43m \u001b[49m\u001b[43max1\u001b[49m\u001b[43m \u001b[49m\u001b[43m,\u001b[49m\u001b[43m \u001b[49m\u001b[43mcolors\u001b[49m\u001b[43m \u001b[49m\u001b[38;5;241;43m=\u001b[39;49m\u001b[43m \u001b[49m\u001b[43m{\u001b[49m\u001b[38;5;241;43m1\u001b[39;49m\u001b[43m:\u001b[49m\u001b[43m \u001b[49m\u001b[38;5;124;43m'\u001b[39;49m\u001b[38;5;124;43mwhite\u001b[39;49m\u001b[38;5;124;43m'\u001b[39;49m\u001b[43m,\u001b[49m\u001b[43m \u001b[49m\u001b[38;5;241;43m2\u001b[39;49m\u001b[43m:\u001b[49m\u001b[38;5;124;43m'\u001b[39;49m\u001b[38;5;124;43mgreen\u001b[39;49m\u001b[38;5;124;43m'\u001b[39;49m\u001b[43m,\u001b[49m\u001b[43m \u001b[49m\u001b[38;5;241;43m3\u001b[39;49m\u001b[43m:\u001b[49m\u001b[43m \u001b[49m\u001b[38;5;124;43m'\u001b[39;49m\u001b[38;5;124;43mblack\u001b[39;49m\u001b[38;5;124;43m'\u001b[39;49m\u001b[43m,\u001b[49m\u001b[43m \u001b[49m\u001b[38;5;241;43m4\u001b[39;49m\u001b[43m:\u001b[49m\u001b[38;5;124;43m'\u001b[39;49m\u001b[38;5;124;43mblue\u001b[39;49m\u001b[38;5;124;43m'\u001b[39;49m\u001b[43m,\u001b[49m\u001b[43m \u001b[49m\u001b[38;5;241;43m5\u001b[39;49m\u001b[43m:\u001b[49m\u001b[38;5;124;43m'\u001b[39;49m\u001b[38;5;124;43morange\u001b[39;49m\u001b[38;5;124;43m'\u001b[39;49m\u001b[43m,\u001b[49m\u001b[43m \u001b[49m\u001b[38;5;241;43m6\u001b[39;49m\u001b[43m:\u001b[49m\u001b[38;5;124;43m'\u001b[39;49m\u001b[38;5;124;43mpink\u001b[39;49m\u001b[38;5;124;43m'\u001b[39;49m\u001b[43m}\u001b[49m\u001b[43m,\u001b[49m\u001b[43m \u001b[49m\u001b[43malpha\u001b[49m\u001b[38;5;241;43m=\u001b[39;49m\u001b[43m \u001b[49m\u001b[38;5;241;43m0.5\u001b[39;49m\u001b[43m \u001b[49m\u001b[43m,\u001b[49m\u001b[43m \u001b[49m\u001b[43mlw\u001b[49m\u001b[43m \u001b[49m\u001b[38;5;241;43m=\u001b[39;49m\u001b[43m \u001b[49m\u001b[38;5;241;43m0.2\u001b[39;49m\u001b[43m)\u001b[49m\n\u001b[1;32m      5\u001b[0m \u001b[38;5;66;03m#jcmwave.view('./_JCMupdate/grid.jcm')\u001b[39;00m\n\u001b[1;32m      6\u001b[0m plt\u001b[38;5;241m.\u001b[39mxlim(\u001b[38;5;241m-\u001b[39mkeys[\u001b[38;5;124m'\u001b[39m\u001b[38;5;124mpitch\u001b[39m\u001b[38;5;124m'\u001b[39m]\u001b[38;5;241m/\u001b[39m\u001b[38;5;241m2\u001b[39m,keys[\u001b[38;5;124m'\u001b[39m\u001b[38;5;124mpitch\u001b[39m\u001b[38;5;124m'\u001b[39m]\u001b[38;5;241m/\u001b[39m\u001b[38;5;241m2\u001b[39m)\n",
      "File \u001b[0;32m~/Projects/IntroJCMwave/Reflectivity/../jcm_plotting_utils.py:133\u001b[0m, in \u001b[0;36mplot_grid\u001b[0;34m(filename, ax, colors, shift_x, shift_y, **kwargs)\u001b[0m\n\u001b[1;32m    131\u001b[0m quads[:, :, \u001b[38;5;241m1\u001b[39m] \u001b[38;5;241m+\u001b[39m\u001b[38;5;241m=\u001b[39m shift_y\n\u001b[1;32m    132\u001b[0m \u001b[38;5;28;01mfor\u001b[39;00m i \u001b[38;5;129;01min\u001b[39;00m \u001b[38;5;28mrange\u001b[39m(\u001b[38;5;28mlen\u001b[39m(triangles_id)):\n\u001b[0;32m--> 133\u001b[0m     ax\u001b[38;5;241m.\u001b[39madd_patch(matplotlib\u001b[38;5;241m.\u001b[39mpatches\u001b[38;5;241m.\u001b[39mPolygon(triangles[i], color\u001b[38;5;241m=\u001b[39m\u001b[43mcolors\u001b[49m\u001b[43m[\u001b[49m\u001b[43mtriangles_id\u001b[49m\u001b[43m[\u001b[49m\u001b[43mi\u001b[49m\u001b[43m]\u001b[49m\u001b[43m]\u001b[49m, \u001b[38;5;241m*\u001b[39m\u001b[38;5;241m*\u001b[39mkwargs))\n\u001b[1;32m    135\u001b[0m \u001b[38;5;28;01mfor\u001b[39;00m i \u001b[38;5;129;01min\u001b[39;00m \u001b[38;5;28mrange\u001b[39m(\u001b[38;5;28mlen\u001b[39m(quads_id)):\n\u001b[1;32m    136\u001b[0m     ax\u001b[38;5;241m.\u001b[39madd_patch(matplotlib\u001b[38;5;241m.\u001b[39mpatches\u001b[38;5;241m.\u001b[39mPolygon(quads[i], color\u001b[38;5;241m=\u001b[39mcolors[quads_id[i]], \u001b[38;5;241m*\u001b[39m\u001b[38;5;241m*\u001b[39mkwargs))\n",
      "\u001b[0;31mKeyError\u001b[0m: np.uint64(7)"
     ]
    },
    {
     "data": {
      "image/png": "[encoded data removed]",
      "text/plain": [
       "<Figure size 500x1000 with 1 Axes>"
      ]
     },
     "metadata": {},
     "output_type": "display_data"
    }
   ],
   "source": [
    "keys['slc'] = 1\n",
    "jcmwave.geo('./_JCM_clean_gradient/', keys=keys )\n",
    "figure,ax1 =plt.subplots(1,1, figsize=(5,10))\n",
    "JCMgrid.plot_grid('./_JCM_clean_gradient/grid.jcm', ax= ax1 , colors = {1: 'white', 2:'green', 3: 'black', 4:'blue', 5:'orange', 6:'pink'}, alpha= 0.5 , lw = 0.2)\n",
    "#jcmwave.view('./_JCMupdate/grid.jcm')\n",
    "plt.xlim(-keys['pitch']/2,keys['pitch']/2)\n",
    "plt.ylim(np.min(keys['points_cd'][1::2]),np.max(keys['points_cd'][1::2]))\n",
    "ax1.set_aspect('equal')\n",
    "plt.xlabel('X / nm')\n",
    "plt.ylabel('Y / nm')\n",
    "#figure.savefig('mesh_Ni_01.png',dpi=200)"
   ]
  },
  {
   "cell_type": "code",
   "execution_count": 32,
   "id": "6b07a503-55be-4d70-b207-50ca3868dd14",
   "metadata": {
    "tags": []
   },
   "outputs": [],
   "source": [
    "keys['angle_of_incidence'] = 90-keys['Theta_unique'][0] #keys['angles'][10][0] #90-keys['angles'][0][0]+keys['aoi_offset'] +180\n",
    "#print(Theta_unique[30])\n",
    "\n",
    "keys['phi'] = 90 #90 +keys['angles'][0][1]+keys['phi_offset']  #\n",
    "keys['slc'] = 3\n",
    "#keys['fem_deg'] = 4\n",
    "\n",
    "#jcmwave.daemon.shutdown()\n",
    "job_ids = jcmwave.solve('./_JCM_clean_gradient/project-field.jcmpt',  keys=keys)\n",
    "#job_ids = jcmwave.solve('./_JCM_clean_gradient/project.jcmpt',  keys=keys)\n",
    "#start = time.time()\n",
    "results, logs = jcmwave.daemon.wait(job_ids,verbose=False)\n",
    "#end = time.time()\n",
    "#print(end - start)\n"
   ]
  },
  {
   "cell_type": "code",
   "execution_count": 20,
   "id": "af152eaf-5ec4-455a-9d44-baeb60373371",
   "metadata": {
    "tags": []
   },
   "outputs": [
    {
     "name": "stdout",
     "output_type": "stream",
     "text": [
      "[{'ExitCode': 0, 'Log': {'Error': '', 'Out': '\\n\\n\\n*** Solving /home/kas/Projects/IntroJCMwave/_JCM_clean/project-field.jcmp on refinement level 0 ... \\n\\nA priori segments/wavelength (quality = 1.00e-02)\\n  FEM degree  direction X  direction Y\\n-------------------------------------------------\\n           1          inf          inf\\n           2        13.79        13.79\\n           3         4.60         4.60\\n           4         2.43         2.43\\n           5         1.61         1.61\\n           6         1.19         1.19\\n           7         0.93         0.93\\n           8         0.76         0.76\\n           9         0.64         0.64\\n          10         0.55         0.55\\n  minimum seg/wavelength in grid : 6.44\\n  maximum seg/wavelength in grid : 15.40\\n\\n  *** A priori interior domain wave propagation characteristics (vacuum wavelength = 4.350 nm):\\n  \\n       Compartment \"Y\":\\n    computational domain size:   32 (wavelengths).\\n    computational domain range wave propagation error: 0.098\\n    \\'one wavelength\\' wave propagation error: 0.012 \\n  \\n       Compartment \"-Y\":\\n    computational domain size:   32 (wavelengths).\\n    computational domain range wave propagation error: 0.097\\n    \\'one wavelength\\' wave propagation error: 0.012 \\n\\nCell percentage per Finite Element degree\\n  FEM degree  Cell percentage\\n-----------------------------------------\\n           2             99.3\\n           3              0.7\\n\\nassembling problem (2116292 unknowns) ...  \\nassembling problem done: 00:00:32.98 (cpu), 00:00:06.70 (total) (matrix entries/row = 21)\\nsolving discrete problem ... \\nMemory requirement estimated by the linear system solver: 7.03GB\\nestimated remaining time [step]: <1min[25], <1min[50], <1min[75], finished\\nsolving discrete problem done: 00:00:45.67 (cpu), 00:00:10.73 (total), 6.01GB (mem)\\n  *** A posteriori exterior domain quality check:\\n       Compartment  \"Y\": 0.075 (thickness level=0)\\n       Compartment \"-Y\": 0.00048 (thickness level=0)\\nupdating inner nodes ...\\nupdating inner nodes done: 00:00:09.83 (cpu), 00:00:00.81 (total)\\n\\n\\n                                computational costs\\n  level  unknowns     cpu time  cpu/unknowns  system memory   total time  total memory\\n--------------------------------------------------------------------------------------\\n      0   2116292  00:01:35.10      4.49e-05         6.01GB  00:00:23.41        7.50GB\\n\\n*** Maximum number of refinement steps reached. *** \\n\\npost process Cartesian (output file: \\'fieldbag_near_field_xy.jcm\\') ... done: 00:00:06.04 (cpu), 00:00:05 (total)\\n'}}]\n"
     ]
    }
   ],
   "source": [
    "print(logs)"
   ]
  },
  {
   "cell_type": "code",
   "execution_count": 20,
   "id": "01971c41",
   "metadata": {},
   "outputs": [
    {
     "data": {
      "text/plain": [
       "[[{'file': '/home/kas/Projects/IntroJCMwave/Reflectivity/_JCM_clean_gradient/project-field_results/fieldbag.jcm',\n",
       "   'computational_costs': {'title': 'ComputationalCosts',\n",
       "    'header': {'AccumulatedCPUTime': 47.725301,\n",
       "     'AccumulatedTotalTime': 10.982312666},\n",
       "    'Level': array([0], dtype=int32),\n",
       "    'Unknowns': array([503360], dtype=int32),\n",
       "    'CpuTime': array([46.290768]),\n",
       "    'CpuPerUnknown': array([9.1963541e-05]),\n",
       "    'TotalTime': array([10], dtype=int32),\n",
       "    'SystemMemory_GB': array([1.24547577]),\n",
       "    'MaxNodeSystemMemory_GB': array([1.24547577]),\n",
       "    'TotalMemory_GB': array([1.76073837]),\n",
       "    'MaxNodeTotalMemory_GB': array([1.76073837]),\n",
       "    'CpuTimeAssembling': array([31.355419]),\n",
       "    'CpuTimeSolve': array([6.969426]),\n",
       "    'CpuTimeInnerNodeUpdate': array([4.966362]),\n",
       "    'TotalTimeAssembling': array([4.19055107]),\n",
       "    'TotalTimeSolve': array([1.87213989]),\n",
       "    'TotalTimeInnerNodeUpdate': array([2.76820305]),\n",
       "    'FEDegree0_Percentage': array([0.]),\n",
       "    'FEDegree1_Percentage': array([0.]),\n",
       "    'FEDegree2_Percentage': array([99.7038989]),\n",
       "    'FEDegree3_Percentage': array([0.2961011]),\n",
       "    'FEDegree4_Percentage': array([0.]),\n",
       "    'FEDegree5_Percentage': array([0.]),\n",
       "    'FEDegree6_Percentage': array([0.]),\n",
       "    'FEDegree7_Percentage': array([0.]),\n",
       "    'FEDegree8_Percentage': array([0.]),\n",
       "    'FEDegree9_Percentage': array([0.]),\n",
       "    'FEDegree10_Percentage': array([0.])}},\n",
       "  '/home/kas/Projects/IntroJCMwave/Reflectivity/_JCM_clean_gradient/project_results/fieldbag_near_field_xy.jcm']]"
      ]
     },
     "execution_count": 20,
     "metadata": {},
     "output_type": "execute_result"
    }
   ],
   "source": [
    "results"
   ]
  },
  {
   "cell_type": "code",
   "execution_count": 33,
   "id": "601425c3-1e08-4841-b5ba-9370d0b1758c",
   "metadata": {
    "tags": []
   },
   "outputs": [
    {
     "data": {
      "text/plain": [
       "[<matplotlib.lines.Line2D at 0x79574913d6a0>]"
      ]
     },
     "execution_count": 33,
     "metadata": {},
     "output_type": "execute_result"
    },
    {
     "data": {
      "image/png": "[encoded data removed]",
      "text/plain": [
       "<Figure size 800x500 with 2 Axes>"
      ]
     },
     "metadata": {},
     "output_type": "display_data"
    }
   ],
   "source": [
    "#jcmwave.view('./_JCMupdate/project_results/fieldbag.jcm')\n",
    "result = results[0]\n",
    "index_take = 1\n",
    "amplitude = result[index_take]['field'][0]\n",
    "intensity = (amplitude.conj()*amplitude).sum(2).real \n",
    "\n",
    "\n",
    "#intensity = np.absolute(result[4]['field'][0])\n",
    "\n",
    "#np.shape(result[4]['X'])\n",
    "np.shape(intensity)\n",
    "#intensity\n",
    "figure,ax1 =plt.subplots(1,1, figsize=(8,5))\n",
    "plt.pcolormesh(result[index_take]['X']*1e9,result[index_take]['Y']*1e9,(intensity))\n",
    "plt.xlabel('X / nm')\n",
    "plt.ylabel('Y / nm')\n",
    "ax1.set_aspect('equal')\n",
    "plt.colorbar(label='log(field intensity) / a.u.')\n",
    "\n",
    "x_line = np.append(keys['points_line_komplet'][::2],keys['points_line_komplet'][0])\n",
    "y_line = np.append(keys['points_line_komplet'][1::2],keys['points_line_komplet'][1])\n",
    "x_oxide = np.append(keys['points_cont_komplet'][::2],keys['points_cont_komplet'][0])\n",
    "y_oxide = np.append(keys['points_cont_komplet'][1::2],keys['points_cont_komplet'][1])\n",
    "x_mem = np.append(keys['points_to_Si_Si3N4'][::2],keys['points_to_Si_Si3N4'][0])\n",
    "y_mem = np.append(keys['points_to_Si_Si3N4'][1::2],keys['points_to_Si_Si3N4'][1])\n",
    "plt.plot(x_line,y_line,'k-')\n",
    "plt.plot(x_oxide,y_oxide,'k-')\n",
    "plt.plot(x_mem,y_mem,'k-')\n",
    "#figure.savefig('field_distribution_Ni_01.png',dpi=200)"
   ]
  },
  {
   "cell_type": "code",
   "execution_count": 31,
   "id": "87062a93-7ece-4be2-b63d-d61b6adc76a2",
   "metadata": {
    "tags": []
   },
   "outputs": [
    {
     "data": {
      "text/plain": [
       "(-500000000.0, 500000000.0)"
      ]
     },
     "execution_count": 31,
     "metadata": {},
     "output_type": "execute_result"
    },
    {
     "data": {
      "image/png": "[encoded data removed]",
      "text/plain": [
       "<Figure size 640x480 with 1 Axes>"
      ]
     },
     "metadata": {},
     "output_type": "display_data"
    }
   ],
   "source": [
    "Kx = results[0][-1]['K'][:,0]\n",
    "amplitude_x = results[0][-1]['ElectricFieldStrength'][0][:,0]\n",
    "amplitude_y = results[0][-1]['ElectricFieldStrength'][0][:,1]\n",
    "amplitude_z = results[0][-1]['ElectricFieldStrength'][0][:,2]\n",
    "intensity_no2Si4N4 = (amplitude_x.conj()*amplitude_x).real +(amplitude_y.conj()*amplitude_y).real +(amplitude_z.conj()*amplitude_z).real \n",
    "\n",
    "#plt.plot(Kx,intensity,'.',label='complete cell')\n",
    "#plt.plot(Kx,intensity_noH2O,'.',label='no H2O')\n",
    "#plt.plot(Kx,intensity_no2Si4N4,'.',label='no 2 Si3N4')\n",
    "plt.plot(Kx,intensity_no2Si4N4,'.',label='no H2O no 2 Si3N4')\n",
    "plt.legend()\n",
    "plt.yscale('log')\n",
    "plt.xlim(-0.5e9,0.5e9)"
   ]
  },
  {
   "cell_type": "code",
   "execution_count": null,
   "id": "61ae7bdf-3c00-440f-945d-6216ef1c3d3b",
   "metadata": {},
   "outputs": [],
   "source": []
  }
 ],
 "metadata": {
  "kernelspec": {
   "display_name": ".venv",
   "language": "python",
   "name": "python3"
  },
  "language_info": {
   "codemirror_mode": {
    "name": "ipython",
    "version": 3
   },
   "file_extension": ".py",
   "mimetype": "text/x-python",
   "name": "python",
   "nbconvert_exporter": "python",
   "pygments_lexer": "ipython3",
   "version": "3.12.3"
  }
 },
 "nbformat": 4,
 "nbformat_minor": 5
}
